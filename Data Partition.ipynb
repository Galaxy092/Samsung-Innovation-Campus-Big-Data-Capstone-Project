{
 "cells": [
  {
   "cell_type": "code",
   "execution_count": 53,
   "id": "14b7072b",
   "metadata": {},
   "outputs": [
    {
     "data": {
      "text/html": [
       "\n",
       "            <div>\n",
       "                <p><b>SparkSession - hive</b></p>\n",
       "                \n",
       "        <div>\n",
       "            <p><b>SparkContext</b></p>\n",
       "\n",
       "            <p><a href=\"http://192.168.113.138:4040\">Spark UI</a></p>\n",
       "\n",
       "            <dl>\n",
       "              <dt>Version</dt>\n",
       "                <dd><code>v3.1.2</code></dd>\n",
       "              <dt>Master</dt>\n",
       "                <dd><code>local[*]</code></dd>\n",
       "              <dt>AppName</dt>\n",
       "                <dd><code>PySparkShell</code></dd>\n",
       "            </dl>\n",
       "        </div>\n",
       "        \n",
       "            </div>\n",
       "        "
      ],
      "text/plain": [
       "<pyspark.sql.session.SparkSession at 0x7f24d20e1e80>"
      ]
     },
     "execution_count": 53,
     "metadata": {},
     "output_type": "execute_result"
    }
   ],
   "source": [
    "spark"
   ]
  },
  {
   "cell_type": "code",
   "execution_count": 54,
   "id": "ae0308a6",
   "metadata": {},
   "outputs": [
    {
     "name": "stderr",
     "output_type": "stream",
     "text": [
      "[Stage 116:========================================>                (5 + 2) / 7]\r"
     ]
    },
    {
     "name": "stdout",
     "output_type": "stream",
     "text": [
      "root\n",
      " |-- Date: string (nullable = true)\n",
      " |-- Time: string (nullable = true)\n",
      " |-- Water Content (m3/m3): double (nullable = true)\n",
      " |-- Solar Radiation (W/m2): double (nullable = true)\n",
      " |-- Rain (mm): double (nullable = true)\n",
      " |-- Temperature (Celcius): double (nullable = true)\n",
      " |-- RH (%): double (nullable = true)\n",
      " |-- Wind Speed (m/s): double (nullable = true)\n",
      " |-- Gust Speed (m/s): double (nullable = true)\n",
      " |-- Wind Direction (Degree): double (nullable = true)\n",
      " |-- Dew Point (Celcius): double (nullable = true)\n",
      "\n"
     ]
    },
    {
     "name": "stderr",
     "output_type": "stream",
     "text": [
      "\r",
      "                                                                                \r"
     ]
    }
   ],
   "source": [
    "from pyspark.sql import SparkSession\n",
    "\n",
    "# Initialize Spark session\n",
    "spark = SparkSession.builder \\\n",
    "    .appName(\"Read CSV from HDFS\") \\\n",
    "    .getOrCreate()\n",
    "\n",
    "# Path to the CSV file on HDFS\n",
    "file_path = \"hdfs:///user/student/cleaned.csv\"\n",
    "\n",
    "# Read the CSV file into a DataFrame\n",
    "df = spark.read.csv(file_path, header=True, inferSchema=True)\n",
    "\n",
    "# Show the DataFrame Schema\n",
    "df.printSchema()"
   ]
  },
  {
   "cell_type": "markdown",
   "id": "f6a51051",
   "metadata": {},
   "source": [
    "## Partition by Month"
   ]
  },
  {
   "cell_type": "code",
   "execution_count": 55,
   "id": "d6d60cee",
   "metadata": {},
   "outputs": [
    {
     "name": "stdout",
     "output_type": "stream",
     "text": [
      "root\n",
      " |-- Date: date (nullable = true)\n",
      " |-- Time: string (nullable = true)\n",
      " |-- Water_Content_m3_m3: double (nullable = true)\n",
      " |-- Solar_Radiation_W_m2: double (nullable = true)\n",
      " |-- Rain_mm: double (nullable = true)\n",
      " |-- Temperature_Celsius: double (nullable = true)\n",
      " |-- RH_percent: double (nullable = true)\n",
      " |-- Wind_Speed_m_s: double (nullable = true)\n",
      " |-- Gust_Speed_m_s: double (nullable = true)\n",
      " |-- Wind_Direction_Degree: double (nullable = true)\n",
      " |-- Dew_Point_Celsius: double (nullable = true)\n",
      " |-- month: string (nullable = true)\n",
      "\n",
      "+-------+\n",
      "|  month|\n",
      "+-------+\n",
      "|2021-05|\n",
      "|2021-05|\n",
      "|2021-05|\n",
      "|2021-05|\n",
      "|2021-05|\n",
      "+-------+\n",
      "only showing top 5 rows\n",
      "\n"
     ]
    }
   ],
   "source": [
    "from pyspark.sql.functions import to_date, date_format, col\n",
    "\n",
    "# Rename problematic columns (contains special characters like spaces and parentheses)\n",
    "df = df.withColumnRenamed(\"Water Content (m3/m3)\", \"Water_Content_m3_m3\") \\\n",
    "       .withColumnRenamed(\"Solar Radiation (W/m2)\", \"Solar_Radiation_W_m2\") \\\n",
    "       .withColumnRenamed(\"Rain (mm)\", \"Rain_mm\") \\\n",
    "       .withColumnRenamed(\"Temperature (Celcius)\", \"Temperature_Celsius\") \\\n",
    "       .withColumnRenamed(\"RH (%)\", \"RH_percent\") \\\n",
    "       .withColumnRenamed(\"Wind Speed (m/s)\", \"Wind_Speed_m_s\") \\\n",
    "       .withColumnRenamed(\"Gust Speed (m/s)\", \"Gust_Speed_m_s\") \\\n",
    "       .withColumnRenamed(\"Wind Direction (Degree)\", \"Wind_Direction_Degree\") \\\n",
    "       .withColumnRenamed(\"Dew Point (Celcius)\", \"Dew_Point_Celsius\")\n",
    "\n",
    "# Ensure the 'Date' is correctly formatted\n",
    "df = df.withColumn(\"Date\", to_date(\"Date\", \"yyyy-MM-dd\"))\n",
    "\n",
    "# Extract the month from the 'Date' column\n",
    "df = df.withColumn(\"month\", date_format(col(\"Date\"), \"yyyy-MM\"))\n",
    "\n",
    "# Print schema and show the first 5 rows of the 'month' column\n",
    "df.printSchema()\n",
    "df.select(\"month\").show(5)"
   ]
  },
  {
   "cell_type": "code",
   "execution_count": 59,
   "id": "1c341d9c",
   "metadata": {},
   "outputs": [
    {
     "name": "stderr",
     "output_type": "stream",
     "text": [
      "                                                                                \r"
     ]
    },
    {
     "name": "stdout",
     "output_type": "stream",
     "text": [
      "Data successfully partitioned and saved to Hive!\n"
     ]
    }
   ],
   "source": [
    "# Write the DataFrame to Hive, partitioned by \"month\" column\n",
    "df.write \\\n",
    "    .format(\"parquet\") \\\n",
    "    .mode(\"overwrite\") \\\n",
    "    .partitionBy(\"month\") \\\n",
    "    .saveAsTable(\"mydb.weather_data_partitioned_by_month\")\n",
    "\n",
    "print(\"Data successfully partitioned and saved to Hive!\")"
   ]
  }
 ],
 "metadata": {
  "kernelspec": {
   "display_name": "Python 3 (ipykernel)",
   "language": "python",
   "name": "python3"
  },
  "language_info": {
   "codemirror_mode": {
    "name": "ipython",
    "version": 3
   },
   "file_extension": ".py",
   "mimetype": "text/x-python",
   "name": "python",
   "nbconvert_exporter": "python",
   "pygments_lexer": "ipython3",
   "version": "3.8.12"
  }
 },
 "nbformat": 4,
 "nbformat_minor": 5
}
