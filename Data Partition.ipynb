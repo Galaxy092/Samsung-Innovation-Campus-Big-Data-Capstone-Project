{
 "cells": [
  {
   "cell_type": "code",
   "execution_count": 53,
   "id": "14b7072b",
   "metadata": {},
   "outputs": [
    {
     "data": {
      "text/html": [
       "\n",
       "            <div>\n",
       "                <p><b>SparkSession - hive</b></p>\n",
       "                \n",
       "        <div>\n",
       "            <p><b>SparkContext</b></p>\n",
       "\n",
       "            <p><a href=\"http://192.168.113.138:4040\">Spark UI</a></p>\n",
       "\n",
       "            <dl>\n",
       "              <dt>Version</dt>\n",
       "                <dd><code>v3.1.2</code></dd>\n",
       "              <dt>Master</dt>\n",
       "                <dd><code>local[*]</code></dd>\n",
       "              <dt>AppName</dt>\n",
       "                <dd><code>PySparkShell</code></dd>\n",
       "            </dl>\n",
       "        </div>\n",
       "        \n",
       "            </div>\n",
       "        "
      ],
      "text/plain": [
       "<pyspark.sql.session.SparkSession at 0x7f24d20e1e80>"
      ]
     },
     "execution_count": 53,
     "metadata": {},
     "output_type": "execute_result"
    }
   ],
   "source": [
    "spark"
   ]
  },
  {
   "cell_type": "code",
   "execution_count": 54,
   "id": "ae0308a6",
   "metadata": {},
   "outputs": [
    {
     "name": "stderr",
     "output_type": "stream",
     "text": [
      "[Stage 116:========================================>                (5 + 2) / 7]\r"
     ]
    },
    {
     "name": "stdout",
     "output_type": "stream",
     "text": [
      "root\n",
      " |-- Date: string (nullable = true)\n",
      " |-- Time: string (nullable = true)\n",
      " |-- Water Content (m3/m3): double (nullable = true)\n",
      " |-- Solar Radiation (W/m2): double (nullable = true)\n",
      " |-- Rain (mm): double (nullable = true)\n",
      " |-- Temperature (Celcius): double (nullable = true)\n",
      " |-- RH (%): double (nullable = true)\n",
      " |-- Wind Speed (m/s): double (nullable = true)\n",
      " |-- Gust Speed (m/s): double (nullable = true)\n",
      " |-- Wind Direction (Degree): double (nullable = true)\n",
      " |-- Dew Point (Celcius): double (nullable = true)\n",
      "\n"
     ]
    },
    {
     "name": "stderr",
     "output_type": "stream",
     "text": [
      "\r",
      "                                                                                \r"
     ]
    }
   ],
   "source": [
    "from pyspark.sql import SparkSession\n",
    "\n",
    "# Initialize Spark session\n",
    "spark = SparkSession.builder \\\n",
    "    .appName(\"Read CSV from HDFS\") \\\n",
    "    .getOrCreate()\n",
    "\n",
    "# Path to the CSV file on HDFS\n",
    "file_path = \"hdfs:///user/student/cleaned.csv\"\n",
    "\n",
    "# Read the CSV file into a DataFrame\n",
    "df = spark.read.csv(file_path, header=True, inferSchema=True)\n",
    "\n",
    "# Show the DataFrame Schema\n",
    "df.printSchema()"
   ]
  },
  {
   "cell_type": "markdown",
   "id": "f6a51051",
   "metadata": {},
   "source": [
    "## Partition by Month"
   ]
  },
  {
   "cell_type": "code",
   "execution_count": 55,
   "id": "d6d60cee",
   "metadata": {},
   "outputs": [
    {
     "name": "stdout",
     "output_type": "stream",
     "text": [
      "root\n",
      " |-- Date: date (nullable = true)\n",
      " |-- Time: string (nullable = true)\n",
      " |-- Water_Content_m3_m3: double (nullable = true)\n",
      " |-- Solar_Radiation_W_m2: double (nullable = true)\n",
      " |-- Rain_mm: double (nullable = true)\n",
      " |-- Temperature_Celsius: double (nullable = true)\n",
      " |-- RH_percent: double (nullable = true)\n",
      " |-- Wind_Speed_m_s: double (nullable = true)\n",
      " |-- Gust_Speed_m_s: double (nullable = true)\n",
      " |-- Wind_Direction_Degree: double (nullable = true)\n",
      " |-- Dew_Point_Celsius: double (nullable = true)\n",
      " |-- month: string (nullable = true)\n",
      "\n",
      "+-------+\n",
      "|  month|\n",
      "+-------+\n",
      "|2021-05|\n",
      "|2021-05|\n",
      "|2021-05|\n",
      "|2021-05|\n",
      "|2021-05|\n",
      "+-------+\n",
      "only showing top 5 rows\n",
      "\n"
     ]
    }
   ],
   "source": [
    "from pyspark.sql.functions import to_date, date_format, col\n",
    "\n",
    "# Rename problematic columns (contains special characters like spaces and parentheses)\n",
    "df = df.withColumnRenamed(\"Water Content (m3/m3)\", \"Water_Content_m3_m3\") \\\n",
    "       .withColumnRenamed(\"Solar Radiation (W/m2)\", \"Solar_Radiation_W_m2\") \\\n",
    "       .withColumnRenamed(\"Rain (mm)\", \"Rain_mm\") \\\n",
    "       .withColumnRenamed(\"Temperature (Celcius)\", \"Temperature_Celsius\") \\\n",
    "       .withColumnRenamed(\"RH (%)\", \"RH_percent\") \\\n",
    "       .withColumnRenamed(\"Wind Speed (m/s)\", \"Wind_Speed_m_s\") \\\n",
    "       .withColumnRenamed(\"Gust Speed (m/s)\", \"Gust_Speed_m_s\") \\\n",
    "       .withColumnRenamed(\"Wind Direction (Degree)\", \"Wind_Direction_Degree\") \\\n",
    "       .withColumnRenamed(\"Dew Point (Celcius)\", \"Dew_Point_Celsius\")\n",
    "\n",
    "# Ensure the 'Date' is correctly formatted\n",
    "df = df.withColumn(\"Date\", to_date(\"Date\", \"yyyy-MM-dd\"))\n",
    "\n",
    "# Extract the month from the 'Date' column\n",
    "df = df.withColumn(\"month\", date_format(col(\"Date\"), \"yyyy-MM\"))\n",
    "\n",
    "# Print schema and show the first 5 rows of the 'month' column\n",
    "df.printSchema()\n",
    "df.select(\"month\").show(5)"
   ]
  },
  {
   "cell_type": "code",
   "execution_count": 59,
   "id": "1c341d9c",
   "metadata": {},
   "outputs": [
    {
     "name": "stderr",
     "output_type": "stream",
     "text": [
      "                                                                                \r"
     ]
    },
    {
     "name": "stdout",
     "output_type": "stream",
     "text": [
      "Data successfully partitioned and saved to Hive!\n"
     ]
    },
    {
     "name": "stderr",
     "output_type": "stream",
     "text": [
      "2024-12-02 22:51:41,623 WARN spark.HeartbeatReceiver: Removing executor driver with no recent heartbeats: 130999 ms exceeds timeout 120000 ms\n",
      "2024-12-02 22:51:45,465 WARN spark.SparkContext: Killing executors is not supported by current scheduler.\n",
      "2024-12-06 19:23:31,126 ERROR bonecp.BoneCP: Failed to acquire connection to jdbc:mysql://localhost:3306/hive?createDatabaseIfNotExist=true&useSSL=false. Sleeping for 7000 ms. Attempts left: 5\n",
      "com.mysql.jdbc.exceptions.jdbc4.CommunicationsException: Communications link failure\n",
      "\n",
      "The last packet successfully received from the server was 1,331,848 milliseconds ago.  The last packet sent successfully to the server was 1,318,581 milliseconds ago.\n",
      "\tat sun.reflect.NativeConstructorAccessorImpl.newInstance0(Native Method)\n",
      "\tat sun.reflect.NativeConstructorAccessorImpl.newInstance(NativeConstructorAccessorImpl.java:62)\n",
      "\tat sun.reflect.DelegatingConstructorAccessorImpl.newInstance(DelegatingConstructorAccessorImpl.java:45)\n",
      "\tat java.lang.reflect.Constructor.newInstance(Constructor.java:423)\n",
      "\tat com.mysql.jdbc.Util.handleNewInstance(Util.java:425)\n",
      "\tat com.mysql.jdbc.SQLError.createCommunicationsException(SQLError.java:990)\n",
      "\tat com.mysql.jdbc.MysqlIO.reuseAndReadPacket(MysqlIO.java:3562)\n",
      "\tat com.mysql.jdbc.MysqlIO.reuseAndReadPacket(MysqlIO.java:3462)\n",
      "\tat com.mysql.jdbc.MysqlIO.checkErrorPacket(MysqlIO.java:3905)\n",
      "\tat com.mysql.jdbc.MysqlIO.checkErrorPacket(MysqlIO.java:871)\n",
      "\tat com.mysql.jdbc.MysqlIO.proceedHandshakeWithPluggableAuthentication(MysqlIO.java:1714)\n",
      "\tat com.mysql.jdbc.MysqlIO.doHandshake(MysqlIO.java:1224)\n",
      "\tat com.mysql.jdbc.ConnectionImpl.coreConnect(ConnectionImpl.java:2199)\n",
      "\tat com.mysql.jdbc.ConnectionImpl.connectOneTryOnly(ConnectionImpl.java:2230)\n",
      "\tat com.mysql.jdbc.ConnectionImpl.createNewIO(ConnectionImpl.java:2025)\n",
      "\tat com.mysql.jdbc.ConnectionImpl.<init>(ConnectionImpl.java:778)\n",
      "\tat com.mysql.jdbc.JDBC4Connection.<init>(JDBC4Connection.java:47)\n",
      "\tat sun.reflect.GeneratedConstructorAccessor133.newInstance(Unknown Source)\n",
      "\tat sun.reflect.DelegatingConstructorAccessorImpl.newInstance(DelegatingConstructorAccessorImpl.java:45)\n",
      "\tat java.lang.reflect.Constructor.newInstance(Constructor.java:423)\n",
      "\tat com.mysql.jdbc.Util.handleNewInstance(Util.java:425)\n",
      "\tat com.mysql.jdbc.ConnectionImpl.getInstance(ConnectionImpl.java:386)\n",
      "\tat com.mysql.jdbc.NonRegisteringDriver.connect(NonRegisteringDriver.java:330)\n",
      "\tat java.sql.DriverManager.getConnection(DriverManager.java:664)\n",
      "\tat java.sql.DriverManager.getConnection(DriverManager.java:208)\n",
      "\tat com.jolbox.bonecp.BoneCP.obtainRawInternalConnection(BoneCP.java:361)\n",
      "\tat com.jolbox.bonecp.BoneCP.obtainInternalConnection(BoneCP.java:269)\n",
      "\tat com.jolbox.bonecp.ConnectionHandle.<init>(ConnectionHandle.java:242)\n",
      "\tat com.jolbox.bonecp.PoolWatchThread.fillConnections(PoolWatchThread.java:115)\n",
      "\tat com.jolbox.bonecp.PoolWatchThread.run(PoolWatchThread.java:82)\n",
      "\tat java.util.concurrent.ThreadPoolExecutor.runWorker(ThreadPoolExecutor.java:1149)\n",
      "\tat java.util.concurrent.ThreadPoolExecutor$Worker.run(ThreadPoolExecutor.java:624)\n",
      "\tat java.lang.Thread.run(Thread.java:748)\n",
      "Caused by: java.io.EOFException: Can not read response from server. Expected to read 4 bytes, read 0 bytes before connection was unexpectedly lost.\n",
      "\tat com.mysql.jdbc.MysqlIO.readFully(MysqlIO.java:3014)\n",
      "\tat com.mysql.jdbc.MysqlIO.reuseAndReadPacket(MysqlIO.java:3472)\n",
      "\t... 26 more\n",
      "2024-12-06 19:23:31,126 ERROR bonecp.BoneCP: Failed to acquire connection to jdbc:mysql://localhost:3306/hive?createDatabaseIfNotExist=true&useSSL=false. Sleeping for 7000 ms. Attempts left: 5\n",
      "com.mysql.jdbc.exceptions.jdbc4.CommunicationsException: Communications link failure\n",
      "\n",
      "The last packet successfully received from the server was 1,331,848 milliseconds ago.  The last packet sent successfully to the server was 1,318,266 milliseconds ago.\n",
      "\tat sun.reflect.NativeConstructorAccessorImpl.newInstance0(Native Method)\n",
      "\tat sun.reflect.NativeConstructorAccessorImpl.newInstance(NativeConstructorAccessorImpl.java:62)\n",
      "\tat sun.reflect.DelegatingConstructorAccessorImpl.newInstance(DelegatingConstructorAccessorImpl.java:45)\n",
      "\tat java.lang.reflect.Constructor.newInstance(Constructor.java:423)\n",
      "\tat com.mysql.jdbc.Util.handleNewInstance(Util.java:425)\n",
      "\tat com.mysql.jdbc.SQLError.createCommunicationsException(SQLError.java:990)\n",
      "\tat com.mysql.jdbc.MysqlIO.reuseAndReadPacket(MysqlIO.java:3562)\n",
      "\tat com.mysql.jdbc.MysqlIO.reuseAndReadPacket(MysqlIO.java:3462)\n",
      "\tat com.mysql.jdbc.MysqlIO.checkErrorPacket(MysqlIO.java:3905)\n",
      "\tat com.mysql.jdbc.MysqlIO.checkErrorPacket(MysqlIO.java:871)\n",
      "\tat com.mysql.jdbc.MysqlIO.proceedHandshakeWithPluggableAuthentication(MysqlIO.java:1714)\n",
      "\tat com.mysql.jdbc.MysqlIO.doHandshake(MysqlIO.java:1224)\n",
      "\tat com.mysql.jdbc.ConnectionImpl.coreConnect(ConnectionImpl.java:2199)\n",
      "\tat com.mysql.jdbc.ConnectionImpl.connectOneTryOnly(ConnectionImpl.java:2230)\n",
      "\tat com.mysql.jdbc.ConnectionImpl.createNewIO(ConnectionImpl.java:2025)\n",
      "\tat com.mysql.jdbc.ConnectionImpl.<init>(ConnectionImpl.java:778)\n",
      "\tat com.mysql.jdbc.JDBC4Connection.<init>(JDBC4Connection.java:47)\n",
      "\tat sun.reflect.GeneratedConstructorAccessor133.newInstance(Unknown Source)\n",
      "\tat sun.reflect.DelegatingConstructorAccessorImpl.newInstance(DelegatingConstructorAccessorImpl.java:45)\n",
      "\tat java.lang.reflect.Constructor.newInstance(Constructor.java:423)\n",
      "\tat com.mysql.jdbc.Util.handleNewInstance(Util.java:425)\n",
      "\tat com.mysql.jdbc.ConnectionImpl.getInstance(ConnectionImpl.java:386)\n",
      "\tat com.mysql.jdbc.NonRegisteringDriver.connect(NonRegisteringDriver.java:330)\n",
      "\tat java.sql.DriverManager.getConnection(DriverManager.java:664)\n",
      "\tat java.sql.DriverManager.getConnection(DriverManager.java:208)\n",
      "\tat com.jolbox.bonecp.BoneCP.obtainRawInternalConnection(BoneCP.java:361)\n",
      "\tat com.jolbox.bonecp.BoneCP.obtainInternalConnection(BoneCP.java:269)\n",
      "\tat com.jolbox.bonecp.ConnectionHandle.<init>(ConnectionHandle.java:242)\n",
      "\tat com.jolbox.bonecp.PoolWatchThread.fillConnections(PoolWatchThread.java:115)\n",
      "\tat com.jolbox.bonecp.PoolWatchThread.run(PoolWatchThread.java:82)\n",
      "\tat java.util.concurrent.ThreadPoolExecutor.runWorker(ThreadPoolExecutor.java:1149)\n",
      "\tat java.util.concurrent.ThreadPoolExecutor$Worker.run(ThreadPoolExecutor.java:624)\n",
      "\tat java.lang.Thread.run(Thread.java:748)\n",
      "Caused by: java.io.EOFException: Can not read response from server. Expected to read 4 bytes, read 0 bytes before connection was unexpectedly lost.\n",
      "\tat com.mysql.jdbc.MysqlIO.readFully(MysqlIO.java:3014)\n",
      "\tat com.mysql.jdbc.MysqlIO.reuseAndReadPacket(MysqlIO.java:3472)\n",
      "\t... 26 more\n"
     ]
    }
   ],
   "source": [
    "# Write the DataFrame to Hive, partitioned by \"month\" column\n",
    "df.write \\\n",
    "    .format(\"parquet\") \\\n",
    "    .mode(\"overwrite\") \\\n",
    "    .partitionBy(\"month\") \\\n",
    "    .saveAsTable(\"mydb.weather_data_partitioned_by_month\")\n",
    "\n",
    "print(\"Data successfully partitioned and saved to Hive!\")"
   ]
  }
 ],
 "metadata": {
  "kernelspec": {
   "display_name": "Python 3 (ipykernel)",
   "language": "python",
   "name": "python3"
  },
  "language_info": {
   "codemirror_mode": {
    "name": "ipython",
    "version": 3
   },
   "file_extension": ".py",
   "mimetype": "text/x-python",
   "name": "python",
   "nbconvert_exporter": "python",
   "pygments_lexer": "ipython3",
   "version": "3.8.12"
  }
 },
 "nbformat": 4,
 "nbformat_minor": 5
}
