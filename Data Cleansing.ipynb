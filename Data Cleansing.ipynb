{
 "cells": [
  {
   "cell_type": "code",
   "execution_count": 1,
   "id": "95eacec2",
   "metadata": {},
   "outputs": [
    {
     "data": {
      "text/html": [
       "\n",
       "            <div>\n",
       "                <p><b>SparkSession - hive</b></p>\n",
       "                \n",
       "        <div>\n",
       "            <p><b>SparkContext</b></p>\n",
       "\n",
       "            <p><a href=\"http://192.168.113.135:4041\">Spark UI</a></p>\n",
       "\n",
       "            <dl>\n",
       "              <dt>Version</dt>\n",
       "                <dd><code>v3.1.2</code></dd>\n",
       "              <dt>Master</dt>\n",
       "                <dd><code>local[*]</code></dd>\n",
       "              <dt>AppName</dt>\n",
       "                <dd><code>PySparkShell</code></dd>\n",
       "            </dl>\n",
       "        </div>\n",
       "        \n",
       "            </div>\n",
       "        "
      ],
      "text/plain": [
       "<pyspark.sql.session.SparkSession at 0x7f80fc136550>"
      ]
     },
     "execution_count": 1,
     "metadata": {},
     "output_type": "execute_result"
    }
   ],
   "source": [
    "spark"
   ]
  },
  {
   "cell_type": "markdown",
   "id": "b3f3def8",
   "metadata": {},
   "source": [
    "## Read Data from HDFS using PySpark"
   ]
  },
  {
   "cell_type": "code",
   "execution_count": 4,
   "id": "c0ce039d",
   "metadata": {},
   "outputs": [
    {
     "name": "stderr",
     "output_type": "stream",
     "text": [
      "                                                                                \r"
     ]
    },
    {
     "name": "stdout",
     "output_type": "stream",
     "text": [
      "root\n",
      " |-- Line#: integer (nullable = true)\n",
      " |-- Date: string (nullable = true)\n",
      " |-- Time: string (nullable = true)\n",
      " |-- Water Content (m3/m3): double (nullable = true)\n",
      " |-- Solar Radiation (W/m2): double (nullable = true)\n",
      " |-- Rain (mm): double (nullable = true)\n",
      " |-- Temperature (Celcius): double (nullable = true)\n",
      " |-- RH (%): double (nullable = true)\n",
      " |-- Wind Speed (m/s): double (nullable = true)\n",
      " |-- Gust Speed (m/s): double (nullable = true)\n",
      " |-- Wind Direction (Degree): double (nullable = true)\n",
      " |-- Dew Point (Celcius): double (nullable = true)\n",
      "\n"
     ]
    }
   ],
   "source": [
    "from pyspark.sql import SparkSession\n",
    "\n",
    "# Initialize Spark session\n",
    "spark = SparkSession.builder \\\n",
    "    .appName(\"Read CSV from HDFS\") \\\n",
    "    .getOrCreate()\n",
    "\n",
    "# Path to the CSV file on HDFS\n",
    "file_path = \"hdfs:///user/student/combined_raw_data.csv\"\n",
    "\n",
    "# Read the CSV file into a DataFrame\n",
    "df = spark.read.csv(file_path, header=True, inferSchema=True)\n",
    "\n",
    "# Show the DataFrame content\n",
    "df.head(5)\n",
    "\n",
    "df.printSchema()"
   ]
  },
  {
   "cell_type": "markdown",
   "id": "af1df08a",
   "metadata": {},
   "source": [
    "## Check Null Values with PySpark DataFrame"
   ]
  },
  {
   "cell_type": "code",
   "execution_count": 3,
   "id": "447ffe5b",
   "metadata": {
    "scrolled": true
   },
   "outputs": [
    {
     "name": "stderr",
     "output_type": "stream",
     "text": [
      "                                                                                \r"
     ]
    },
    {
     "name": "stdout",
     "output_type": "stream",
     "text": [
      "+----------------+---------------+---------------+--------------------------------+---------------------------------+--------------------+--------------------------------+-----------------+---------------------------+---------------------------+----------------------------------+------------------------------+\n",
      "|Line#_null_count|Date_null_count|Time_null_count|Water Content (m3/m3)_null_count|Solar Radiation (W/m2)_null_count|Rain (mm)_null_count|Temperature (Celcius)_null_count|RH (%)_null_count|Wind Speed (m/s)_null_count|Gust Speed (m/s)_null_count|Wind Direction (Degree)_null_count|Dew Point (Celcius)_null_count|\n",
      "+----------------+---------------+---------------+--------------------------------+---------------------------------+--------------------+--------------------------------+-----------------+---------------------------+---------------------------+----------------------------------+------------------------------+\n",
      "|               0|              0|              0|                               0|                                0|                   0|                               0|                0|                          0|                          0|                                 0|                             0|\n",
      "+----------------+---------------+---------------+--------------------------------+---------------------------------+--------------------+--------------------------------+-----------------+---------------------------+---------------------------+----------------------------------+------------------------------+\n",
      "\n"
     ]
    },
    {
     "name": "stderr",
     "output_type": "stream",
     "text": [
      "                                                                                \r"
     ]
    },
    {
     "name": "stdout",
     "output_type": "stream",
     "text": [
      "+---------------------+--------------------+--------------------+-------------------------------------+--------------------------------------+-------------------------+-------------------------------------+----------------------+--------------------------------+--------------------------------+---------------------------------------+-----------------------------------+\n",
      "|Line#_null_percentage|Date_null_percentage|Time_null_percentage|Water Content (m3/m3)_null_percentage|Solar Radiation (W/m2)_null_percentage|Rain (mm)_null_percentage|Temperature (Celcius)_null_percentage|RH (%)_null_percentage|Wind Speed (m/s)_null_percentage|Gust Speed (m/s)_null_percentage|Wind Direction (Degree)_null_percentage|Dew Point (Celcius)_null_percentage|\n",
      "+---------------------+--------------------+--------------------+-------------------------------------+--------------------------------------+-------------------------+-------------------------------------+----------------------+--------------------------------+--------------------------------+---------------------------------------+-----------------------------------+\n",
      "|                  0.0|                 0.0|                 0.0|                                  0.0|                                   0.0|                      0.0|                                  0.0|                   0.0|                             0.0|                             0.0|                                    0.0|                                0.0|\n",
      "+---------------------+--------------------+--------------------+-------------------------------------+--------------------------------------+-------------------------+-------------------------------------+----------------------+--------------------------------+--------------------------------+---------------------------------------+-----------------------------------+\n",
      "\n"
     ]
    },
    {
     "name": "stderr",
     "output_type": "stream",
     "text": [
      "[Stage 32:=============================>                            (2 + 2) / 4]\r"
     ]
    },
    {
     "name": "stdout",
     "output_type": "stream",
     "text": [
      "Columns with null values: []\n"
     ]
    },
    {
     "name": "stderr",
     "output_type": "stream",
     "text": [
      "\r",
      "[Stage 32:===========================================>              (3 + 1) / 4]\r",
      "\r",
      "                                                                                \r"
     ]
    }
   ],
   "source": [
    "from pyspark.sql.functions import col, count, when, isnan\n",
    "\n",
    "# Count null values for each column\n",
    "null_counts = df.select([count(when(col(c).isNull(), c)).alias(c + '_null_count') for c in df.columns])\n",
    "null_counts.show()\n",
    "\n",
    "# Get percentage of null values for each column\n",
    "total_rows = df.count()\n",
    "null_percentages = df.select([\n",
    "    (count(when(col(c).isNull(), c)) / total_rows * 100).alias(c + '_null_percentage') \n",
    "    for c in df.columns\n",
    "])\n",
    "null_percentages.show()\n",
    "\n",
    "# Identify columns with null values\n",
    "columns_with_nulls = [c for c in df.columns if df.filter(col(c).isNull()).count() > 0]\n",
    "print(\"Columns with null values:\", columns_with_nulls)"
   ]
  }
 ],
 "metadata": {
  "kernelspec": {
   "display_name": "Python 3 (ipykernel)",
   "language": "python",
   "name": "python3"
  },
  "language_info": {
   "codemirror_mode": {
    "name": "ipython",
    "version": 3
   },
   "file_extension": ".py",
   "mimetype": "text/x-python",
   "name": "python",
   "nbconvert_exporter": "python",
   "pygments_lexer": "ipython3",
   "version": "3.8.12"
  }
 },
 "nbformat": 4,
 "nbformat_minor": 5
}
