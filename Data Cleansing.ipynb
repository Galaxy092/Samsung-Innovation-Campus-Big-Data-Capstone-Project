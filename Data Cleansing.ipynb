{
 "cells": [
  {
   "cell_type": "code",
   "execution_count": 2,
   "id": "95eacec2",
   "metadata": {},
   "outputs": [
    {
     "data": {
      "text/html": [
       "\n",
       "            <div>\n",
       "                <p><b>SparkSession - hive</b></p>\n",
       "                \n",
       "        <div>\n",
       "            <p><b>SparkContext</b></p>\n",
       "\n",
       "            <p><a href=\"http://192.168.113.138:4041\">Spark UI</a></p>\n",
       "\n",
       "            <dl>\n",
       "              <dt>Version</dt>\n",
       "                <dd><code>v3.1.2</code></dd>\n",
       "              <dt>Master</dt>\n",
       "                <dd><code>local[*]</code></dd>\n",
       "              <dt>AppName</dt>\n",
       "                <dd><code>PySparkShell</code></dd>\n",
       "            </dl>\n",
       "        </div>\n",
       "        \n",
       "            </div>\n",
       "        "
      ],
      "text/plain": [
       "<pyspark.sql.session.SparkSession at 0x7fb31c4c12b0>"
      ]
     },
     "execution_count": 2,
     "metadata": {},
     "output_type": "execute_result"
    }
   ],
   "source": [
    "spark"
   ]
  },
  {
   "cell_type": "markdown",
   "id": "b3f3def8",
   "metadata": {},
   "source": [
    "## Read Data from HDFS using PySpark"
   ]
  },
  {
   "cell_type": "code",
   "execution_count": 28,
   "id": "c0ce039d",
   "metadata": {},
   "outputs": [
    {
     "name": "stderr",
     "output_type": "stream",
     "text": [
      "[Stage 43:>                                                         (0 + 4) / 4]\r"
     ]
    },
    {
     "name": "stdout",
     "output_type": "stream",
     "text": [
      "root\n",
      " |-- Line#: integer (nullable = true)\n",
      " |-- Date: string (nullable = true)\n",
      " |-- Time: string (nullable = true)\n",
      " |-- Water Content (m3/m3): double (nullable = true)\n",
      " |-- Solar Radiation (W/m2): double (nullable = true)\n",
      " |-- Rain (mm): double (nullable = true)\n",
      " |-- Temperature (Celcius): double (nullable = true)\n",
      " |-- RH (%): double (nullable = true)\n",
      " |-- Wind Speed (m/s): double (nullable = true)\n",
      " |-- Gust Speed (m/s): double (nullable = true)\n",
      " |-- Wind Direction (Degree): double (nullable = true)\n",
      " |-- Dew Point (Celcius): double (nullable = true)\n",
      "\n"
     ]
    },
    {
     "name": "stderr",
     "output_type": "stream",
     "text": [
      "                                                                                \r"
     ]
    }
   ],
   "source": [
    "from pyspark.sql import SparkSession\n",
    "\n",
    "# Initialize Spark session\n",
    "spark = SparkSession.builder \\\n",
    "    .appName(\"Read CSV from HDFS\") \\\n",
    "    .getOrCreate()\n",
    "\n",
    "# Path to the CSV file on HDFS\n",
    "file_path = \"hdfs:///user/student/combined_raw_data.csv\"\n",
    "\n",
    "# Read the CSV file into a DataFrame\n",
    "df = spark.read.csv(file_path, header=True, inferSchema=True)\n",
    "\n",
    "# Show the DataFrame Schema\n",
    "df.printSchema()"
   ]
  },
  {
   "cell_type": "markdown",
   "id": "67d475d9",
   "metadata": {},
   "source": [
    "## Check Null Values with PySpark DataFrame"
   ]
  },
  {
   "cell_type": "code",
   "execution_count": 29,
   "id": "2a72fa0e",
   "metadata": {
    "scrolled": true
   },
   "outputs": [
    {
     "name": "stderr",
     "output_type": "stream",
     "text": [
      "[Stage 44:>                                                         (0 + 4) / 4]\r"
     ]
    },
    {
     "name": "stdout",
     "output_type": "stream",
     "text": [
      "Line#: 0 null values\n",
      "Date: 0 null values\n",
      "Time: 0 null values\n",
      "Water Content (m3/m3): 0 null values\n",
      "Solar Radiation (W/m2): 0 null values\n",
      "Rain (mm): 0 null values\n",
      "Temperature (Celcius): 0 null values\n",
      "RH (%): 0 null values\n",
      "Wind Speed (m/s): 0 null values\n",
      "Gust Speed (m/s): 0 null values\n",
      "Wind Direction (Degree): 0 null values\n",
      "Dew Point (Celcius): 0 null values\n"
     ]
    },
    {
     "name": "stderr",
     "output_type": "stream",
     "text": [
      "                                                                                \r"
     ]
    }
   ],
   "source": [
    "from pyspark.sql.functions import col, count, when, isnan\n",
    "\n",
    "null_counts = df.select([count(when(col(c).isNull(), c)).alias(c) for c in df.columns]).collect()[0]\n",
    "\n",
    "# Print null counts for each column\n",
    "for column, null_count in zip(df.columns, null_counts):\n",
    "    print(f\"{column}: {null_count} null values\")"
   ]
  },
  {
   "cell_type": "markdown",
   "id": "f0854cc7",
   "metadata": {},
   "source": [
    "## Count Datasets rows"
   ]
  },
  {
   "cell_type": "code",
   "execution_count": 30,
   "id": "cfa0ccf5",
   "metadata": {},
   "outputs": [
    {
     "data": {
      "text/plain": [
       "160418"
      ]
     },
     "execution_count": 30,
     "metadata": {},
     "output_type": "execute_result"
    }
   ],
   "source": [
    "df.count()"
   ]
  },
  {
   "cell_type": "markdown",
   "id": "13946790",
   "metadata": {},
   "source": [
    "## Drop Duplicate Datas"
   ]
  },
  {
   "cell_type": "code",
   "execution_count": 31,
   "id": "f73e6ad9",
   "metadata": {},
   "outputs": [],
   "source": [
    "df = df.select(\"*\").distinct()"
   ]
  },
  {
   "cell_type": "markdown",
   "id": "7e53f24b",
   "metadata": {},
   "source": [
    "## Count Datasets rows after dropping Duplicated Datas"
   ]
  },
  {
   "cell_type": "code",
   "execution_count": 32,
   "id": "7f745546",
   "metadata": {},
   "outputs": [
    {
     "name": "stderr",
     "output_type": "stream",
     "text": [
      "                                                                                \r"
     ]
    },
    {
     "data": {
      "text/plain": [
       "160418"
      ]
     },
     "execution_count": 32,
     "metadata": {},
     "output_type": "execute_result"
    }
   ],
   "source": [
    "# There isn't any duplicate datas.\n",
    "df.count()"
   ]
  },
  {
   "cell_type": "markdown",
   "id": "76ebd628",
   "metadata": {},
   "source": [
    "## Convert Date Datatype from String to Date in (dd-MM-yyyy)"
   ]
  },
  {
   "cell_type": "code",
   "execution_count": 35,
   "id": "83a0c6a4",
   "metadata": {},
   "outputs": [
    {
     "ename": "AnalysisException",
     "evalue": "cannot resolve '`-`' given input columns: [Date, Dew Point (Celcius), Gust Speed (m/s), Line#, RH (%), Rain (mm), Solar Radiation (W/m2), Temperature (Celcius), Time, Water Content (m3/m3), Wind Direction (Degree), Wind Speed (m/s)];\n'Project [Line##971, to_date(concat(lpad(substring('Date, 1, 2), 2, 20), '-, substring('Date, 4, 2), '-, substring('Date, 7, 2)), Some(yyyy-MM-dd)) AS Date#1186, Time#973, Water Content (m3/m3)#974, Solar Radiation (W/m2)#975, Rain (mm)#976, Temperature (Celcius)#977, RH (%)#978, Wind Speed (m/s)#979, Gust Speed (m/s)#980, Wind Direction (Degree)#981, Dew Point (Celcius)#982]\n+- Deduplicate [Solar Radiation (W/m2)#975, Water Content (m3/m3)#974, Dew Point (Celcius)#982, Gust Speed (m/s)#980, RH (%)#978, Wind Speed (m/s)#979, Temperature (Celcius)#977, Date#972, Line##971, Wind Direction (Degree)#981, Rain (mm)#976, Time#973]\n   +- Project [Line##971, Date#972, Time#973, Water Content (m3/m3)#974, Solar Radiation (W/m2)#975, Rain (mm)#976, Temperature (Celcius)#977, RH (%)#978, Wind Speed (m/s)#979, Gust Speed (m/s)#980, Wind Direction (Degree)#981, Dew Point (Celcius)#982]\n      +- Relation[Line##971,Date#972,Time#973,Water Content (m3/m3)#974,Solar Radiation (W/m2)#975,Rain (mm)#976,Temperature (Celcius)#977,RH (%)#978,Wind Speed (m/s)#979,Gust Speed (m/s)#980,Wind Direction (Degree)#981,Dew Point (Celcius)#982] csv\n",
     "output_type": "error",
     "traceback": [
      "\u001b[0;31m---------------------------------------------------------------------------\u001b[0m",
      "\u001b[0;31mAnalysisException\u001b[0m                         Traceback (most recent call last)",
      "Cell \u001b[0;32mIn[35], line 4\u001b[0m\n\u001b[1;32m      1\u001b[0m \u001b[38;5;66;03m#import library\u001b[39;00m\n\u001b[1;32m      2\u001b[0m \u001b[38;5;28;01mfrom\u001b[39;00m \u001b[38;5;21;01mpyspark\u001b[39;00m\u001b[38;5;21;01m.\u001b[39;00m\u001b[38;5;21;01msql\u001b[39;00m\u001b[38;5;21;01m.\u001b[39;00m\u001b[38;5;21;01mfunctions\u001b[39;00m \u001b[38;5;28;01mimport\u001b[39;00m to_date, concat, lpad\n\u001b[0;32m----> 4\u001b[0m df \u001b[38;5;241m=\u001b[39m \u001b[43mdf\u001b[49m\u001b[38;5;241;43m.\u001b[39;49m\u001b[43mwithColumn\u001b[49m\u001b[43m(\u001b[49m\u001b[38;5;124;43m\"\u001b[39;49m\u001b[38;5;124;43mDate\u001b[39;49m\u001b[38;5;124;43m\"\u001b[39;49m\u001b[43m,\u001b[49m\u001b[43m \u001b[49m\u001b[43mto_date\u001b[49m\u001b[43m(\u001b[49m\u001b[43mconcat\u001b[49m\u001b[43m(\u001b[49m\n\u001b[1;32m      5\u001b[0m \u001b[43m    \u001b[49m\u001b[43mlpad\u001b[49m\u001b[43m(\u001b[49m\u001b[43msubstring\u001b[49m\u001b[43m(\u001b[49m\u001b[38;5;124;43m\"\u001b[39;49m\u001b[38;5;124;43mDate\u001b[39;49m\u001b[38;5;124;43m\"\u001b[39;49m\u001b[43m,\u001b[49m\u001b[43m \u001b[49m\u001b[38;5;241;43m1\u001b[39;49m\u001b[43m,\u001b[49m\u001b[43m \u001b[49m\u001b[38;5;241;43m2\u001b[39;49m\u001b[43m)\u001b[49m\u001b[43m,\u001b[49m\u001b[43m \u001b[49m\u001b[38;5;241;43m2\u001b[39;49m\u001b[43m,\u001b[49m\u001b[43m \u001b[49m\u001b[38;5;124;43m\"\u001b[39;49m\u001b[38;5;124;43m20\u001b[39;49m\u001b[38;5;124;43m\"\u001b[39;49m\u001b[43m)\u001b[49m\u001b[43m,\u001b[49m\n\u001b[1;32m      6\u001b[0m \u001b[43m    \u001b[49m\u001b[38;5;124;43m\"\u001b[39;49m\u001b[38;5;124;43m-\u001b[39;49m\u001b[38;5;124;43m\"\u001b[39;49m\u001b[43m,\u001b[49m\n\u001b[1;32m      7\u001b[0m \u001b[43m    \u001b[49m\u001b[43msubstring\u001b[49m\u001b[43m(\u001b[49m\u001b[38;5;124;43m\"\u001b[39;49m\u001b[38;5;124;43mDate\u001b[39;49m\u001b[38;5;124;43m\"\u001b[39;49m\u001b[43m,\u001b[49m\u001b[43m \u001b[49m\u001b[38;5;241;43m4\u001b[39;49m\u001b[43m,\u001b[49m\u001b[43m \u001b[49m\u001b[38;5;241;43m2\u001b[39;49m\u001b[43m)\u001b[49m\u001b[43m,\u001b[49m\n\u001b[1;32m      8\u001b[0m \u001b[43m    \u001b[49m\u001b[38;5;124;43m\"\u001b[39;49m\u001b[38;5;124;43m-\u001b[39;49m\u001b[38;5;124;43m\"\u001b[39;49m\u001b[43m,\u001b[49m\n\u001b[1;32m      9\u001b[0m \u001b[43m    \u001b[49m\u001b[43msubstring\u001b[49m\u001b[43m(\u001b[49m\u001b[38;5;124;43m\"\u001b[39;49m\u001b[38;5;124;43mDate\u001b[39;49m\u001b[38;5;124;43m\"\u001b[39;49m\u001b[43m,\u001b[49m\u001b[43m \u001b[49m\u001b[38;5;241;43m7\u001b[39;49m\u001b[43m,\u001b[49m\u001b[43m \u001b[49m\u001b[38;5;241;43m2\u001b[39;49m\u001b[43m)\u001b[49m\n\u001b[1;32m     10\u001b[0m \u001b[43m)\u001b[49m\u001b[43m,\u001b[49m\u001b[43m \u001b[49m\u001b[38;5;124;43m\"\u001b[39;49m\u001b[38;5;124;43myyyy-MM-dd\u001b[39;49m\u001b[38;5;124;43m\"\u001b[39;49m\u001b[43m)\u001b[49m\u001b[43m)\u001b[49m\n",
      "File \u001b[0;32m/usr/local/spark3/spark-3.1.2-bin-hadoop3.2/python/pyspark/sql/dataframe.py:2455\u001b[0m, in \u001b[0;36mDataFrame.withColumn\u001b[0;34m(self, colName, col)\u001b[0m\n\u001b[1;32m   2425\u001b[0m \u001b[38;5;250m\u001b[39m\u001b[38;5;124;03m\"\"\"\u001b[39;00m\n\u001b[1;32m   2426\u001b[0m \u001b[38;5;124;03mReturns a new :class:`DataFrame` by adding a column or replacing the\u001b[39;00m\n\u001b[1;32m   2427\u001b[0m \u001b[38;5;124;03mexisting column that has the same name.\u001b[39;00m\n\u001b[0;32m   (...)\u001b[0m\n\u001b[1;32m   2452\u001b[0m \n\u001b[1;32m   2453\u001b[0m \u001b[38;5;124;03m\"\"\"\u001b[39;00m\n\u001b[1;32m   2454\u001b[0m \u001b[38;5;28;01massert\u001b[39;00m \u001b[38;5;28misinstance\u001b[39m(col, Column), \u001b[38;5;124m\"\u001b[39m\u001b[38;5;124mcol should be Column\u001b[39m\u001b[38;5;124m\"\u001b[39m\n\u001b[0;32m-> 2455\u001b[0m \u001b[38;5;28;01mreturn\u001b[39;00m DataFrame(\u001b[38;5;28;43mself\u001b[39;49m\u001b[38;5;241;43m.\u001b[39;49m\u001b[43m_jdf\u001b[49m\u001b[38;5;241;43m.\u001b[39;49m\u001b[43mwithColumn\u001b[49m\u001b[43m(\u001b[49m\u001b[43mcolName\u001b[49m\u001b[43m,\u001b[49m\u001b[43m \u001b[49m\u001b[43mcol\u001b[49m\u001b[38;5;241;43m.\u001b[39;49m\u001b[43m_jc\u001b[49m\u001b[43m)\u001b[49m, \u001b[38;5;28mself\u001b[39m\u001b[38;5;241m.\u001b[39msql_ctx)\n",
      "File \u001b[0;32m/usr/local/spark3/spark-3.1.2-bin-hadoop3.2/python/lib/py4j-0.10.9-src.zip/py4j/java_gateway.py:1304\u001b[0m, in \u001b[0;36mJavaMember.__call__\u001b[0;34m(self, *args)\u001b[0m\n\u001b[1;32m   1298\u001b[0m command \u001b[38;5;241m=\u001b[39m proto\u001b[38;5;241m.\u001b[39mCALL_COMMAND_NAME \u001b[38;5;241m+\u001b[39m\\\n\u001b[1;32m   1299\u001b[0m     \u001b[38;5;28mself\u001b[39m\u001b[38;5;241m.\u001b[39mcommand_header \u001b[38;5;241m+\u001b[39m\\\n\u001b[1;32m   1300\u001b[0m     args_command \u001b[38;5;241m+\u001b[39m\\\n\u001b[1;32m   1301\u001b[0m     proto\u001b[38;5;241m.\u001b[39mEND_COMMAND_PART\n\u001b[1;32m   1303\u001b[0m answer \u001b[38;5;241m=\u001b[39m \u001b[38;5;28mself\u001b[39m\u001b[38;5;241m.\u001b[39mgateway_client\u001b[38;5;241m.\u001b[39msend_command(command)\n\u001b[0;32m-> 1304\u001b[0m return_value \u001b[38;5;241m=\u001b[39m \u001b[43mget_return_value\u001b[49m\u001b[43m(\u001b[49m\n\u001b[1;32m   1305\u001b[0m \u001b[43m    \u001b[49m\u001b[43manswer\u001b[49m\u001b[43m,\u001b[49m\u001b[43m \u001b[49m\u001b[38;5;28;43mself\u001b[39;49m\u001b[38;5;241;43m.\u001b[39;49m\u001b[43mgateway_client\u001b[49m\u001b[43m,\u001b[49m\u001b[43m \u001b[49m\u001b[38;5;28;43mself\u001b[39;49m\u001b[38;5;241;43m.\u001b[39;49m\u001b[43mtarget_id\u001b[49m\u001b[43m,\u001b[49m\u001b[43m \u001b[49m\u001b[38;5;28;43mself\u001b[39;49m\u001b[38;5;241;43m.\u001b[39;49m\u001b[43mname\u001b[49m\u001b[43m)\u001b[49m\n\u001b[1;32m   1307\u001b[0m \u001b[38;5;28;01mfor\u001b[39;00m temp_arg \u001b[38;5;129;01min\u001b[39;00m temp_args:\n\u001b[1;32m   1308\u001b[0m     temp_arg\u001b[38;5;241m.\u001b[39m_detach()\n",
      "File \u001b[0;32m/usr/local/spark3/spark-3.1.2-bin-hadoop3.2/python/pyspark/sql/utils.py:117\u001b[0m, in \u001b[0;36mcapture_sql_exception.<locals>.deco\u001b[0;34m(*a, **kw)\u001b[0m\n\u001b[1;32m    113\u001b[0m converted \u001b[38;5;241m=\u001b[39m convert_exception(e\u001b[38;5;241m.\u001b[39mjava_exception)\n\u001b[1;32m    114\u001b[0m \u001b[38;5;28;01mif\u001b[39;00m \u001b[38;5;129;01mnot\u001b[39;00m \u001b[38;5;28misinstance\u001b[39m(converted, UnknownException):\n\u001b[1;32m    115\u001b[0m     \u001b[38;5;66;03m# Hide where the exception came from that shows a non-Pythonic\u001b[39;00m\n\u001b[1;32m    116\u001b[0m     \u001b[38;5;66;03m# JVM exception message.\u001b[39;00m\n\u001b[0;32m--> 117\u001b[0m     \u001b[38;5;28;01mraise\u001b[39;00m converted \u001b[38;5;28;01mfrom\u001b[39;00m \u001b[38;5;28;01mNone\u001b[39;00m\n\u001b[1;32m    118\u001b[0m \u001b[38;5;28;01melse\u001b[39;00m:\n\u001b[1;32m    119\u001b[0m     \u001b[38;5;28;01mraise\u001b[39;00m\n",
      "\u001b[0;31mAnalysisException\u001b[0m: cannot resolve '`-`' given input columns: [Date, Dew Point (Celcius), Gust Speed (m/s), Line#, RH (%), Rain (mm), Solar Radiation (W/m2), Temperature (Celcius), Time, Water Content (m3/m3), Wind Direction (Degree), Wind Speed (m/s)];\n'Project [Line##971, to_date(concat(lpad(substring('Date, 1, 2), 2, 20), '-, substring('Date, 4, 2), '-, substring('Date, 7, 2)), Some(yyyy-MM-dd)) AS Date#1186, Time#973, Water Content (m3/m3)#974, Solar Radiation (W/m2)#975, Rain (mm)#976, Temperature (Celcius)#977, RH (%)#978, Wind Speed (m/s)#979, Gust Speed (m/s)#980, Wind Direction (Degree)#981, Dew Point (Celcius)#982]\n+- Deduplicate [Solar Radiation (W/m2)#975, Water Content (m3/m3)#974, Dew Point (Celcius)#982, Gust Speed (m/s)#980, RH (%)#978, Wind Speed (m/s)#979, Temperature (Celcius)#977, Date#972, Line##971, Wind Direction (Degree)#981, Rain (mm)#976, Time#973]\n   +- Project [Line##971, Date#972, Time#973, Water Content (m3/m3)#974, Solar Radiation (W/m2)#975, Rain (mm)#976, Temperature (Celcius)#977, RH (%)#978, Wind Speed (m/s)#979, Gust Speed (m/s)#980, Wind Direction (Degree)#981, Dew Point (Celcius)#982]\n      +- Relation[Line##971,Date#972,Time#973,Water Content (m3/m3)#974,Solar Radiation (W/m2)#975,Rain (mm)#976,Temperature (Celcius)#977,RH (%)#978,Wind Speed (m/s)#979,Gust Speed (m/s)#980,Wind Direction (Degree)#981,Dew Point (Celcius)#982] csv\n"
     ]
    }
   ],
   "source": [
    "#import library\n",
    "from pyspark.sql.functions import to_date, concat, lpad\n",
    "\n",
    "df = df.withColumn(\"Date\", to_date(concat(\n",
    "    lpad(substring(\"Date\", 1, 2), 2, \"20\"),\n",
    "    \"-\",\n",
    "    substring(\"Date\", 4, 2),\n",
    "    \"-\",\n",
    "    substring(\"Date\", 7, 2)\n",
    "), \"yyyy-MM-dd\"))"
   ]
  },
  {
   "cell_type": "code",
   "execution_count": 34,
   "id": "49510f1b",
   "metadata": {},
   "outputs": [
    {
     "name": "stderr",
     "output_type": "stream",
     "text": [
      "[Stage 51:===========================================>              (3 + 1) / 4]\r"
     ]
    },
    {
     "name": "stdout",
     "output_type": "stream",
     "text": [
      "+-----+--------+--------+---------------------+----------------------+---------+---------------------+------+\n",
      "|Line#|    Date|    Time|Water Content (m3/m3)|Solar Radiation (W/m2)|Rain (mm)|Temperature (Celcius)|RH (%)|\n",
      "+-----+--------+--------+---------------------+----------------------+---------+---------------------+------+\n",
      "| 2419|21/05/09|09:30:00|               0.2837|                 326.0|      0.0|                31.61|  75.7|\n",
      "| 2454|21/05/09|12:25:00|               0.2837|                 411.0|      0.0|                33.47|  66.4|\n",
      "| 2513|21/05/09|17:20:00|               0.2834|                  57.0|      0.0|                32.61|  69.8|\n",
      "| 2537|21/05/09|19:20:00|               0.2834|                   1.0|      0.0|                29.41|  85.5|\n",
      "| 3002|21/05/11|10:05:00|               0.2813|                 791.0|      0.0|                33.84|  66.0|\n",
      "+-----+--------+--------+---------------------+----------------------+---------+---------------------+------+\n",
      "only showing top 5 rows\n",
      "\n",
      "root\n",
      " |-- Line#: integer (nullable = true)\n",
      " |-- Date: string (nullable = true)\n",
      " |-- Time: string (nullable = true)\n",
      " |-- Water Content (m3/m3): double (nullable = true)\n",
      " |-- Solar Radiation (W/m2): double (nullable = true)\n",
      " |-- Rain (mm): double (nullable = true)\n",
      " |-- Temperature (Celcius): double (nullable = true)\n",
      " |-- RH (%): double (nullable = true)\n",
      "\n"
     ]
    },
    {
     "name": "stderr",
     "output_type": "stream",
     "text": [
      "                                                                                \r"
     ]
    }
   ],
   "source": [
    "selected_columns = [\n",
    "    \"Line#\", \"Date\", \"Time\", \"Water Content (m3/m3)\", \n",
    "    \"Solar Radiation (W/m2)\", \"Rain (mm)\", \n",
    "    \"Temperature (Celcius)\", \"RH (%)\"\n",
    "]\n",
    "df.select(*selected_columns).show(5)\n",
    "\n",
    "# Print the schema of the selected columns\n",
    "df.select(*selected_columns).printSchema()"
   ]
  }
 ],
 "metadata": {
  "kernelspec": {
   "display_name": "Python 3 (ipykernel)",
   "language": "python",
   "name": "python3"
  },
  "language_info": {
   "codemirror_mode": {
    "name": "ipython",
    "version": 3
   },
   "file_extension": ".py",
   "mimetype": "text/x-python",
   "name": "python",
   "nbconvert_exporter": "python",
   "pygments_lexer": "ipython3",
   "version": "3.8.12"
  }
 },
 "nbformat": 4,
 "nbformat_minor": 5
}
