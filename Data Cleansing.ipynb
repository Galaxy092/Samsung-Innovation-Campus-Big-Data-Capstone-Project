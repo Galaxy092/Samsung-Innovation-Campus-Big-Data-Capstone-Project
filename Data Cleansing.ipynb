{
 "cells": [
  {
   "cell_type": "code",
   "execution_count": 2,
   "id": "95eacec2",
   "metadata": {},
   "outputs": [
    {
     "data": {
      "text/html": [
       "\n",
       "            <div>\n",
       "                <p><b>SparkSession - hive</b></p>\n",
       "                \n",
       "        <div>\n",
       "            <p><b>SparkContext</b></p>\n",
       "\n",
       "            <p><a href=\"http://192.168.113.138:4041\">Spark UI</a></p>\n",
       "\n",
       "            <dl>\n",
       "              <dt>Version</dt>\n",
       "                <dd><code>v3.1.2</code></dd>\n",
       "              <dt>Master</dt>\n",
       "                <dd><code>local[*]</code></dd>\n",
       "              <dt>AppName</dt>\n",
       "                <dd><code>PySparkShell</code></dd>\n",
       "            </dl>\n",
       "        </div>\n",
       "        \n",
       "            </div>\n",
       "        "
      ],
      "text/plain": [
       "<pyspark.sql.session.SparkSession at 0x7fb31c4c12b0>"
      ]
     },
     "execution_count": 2,
     "metadata": {},
     "output_type": "execute_result"
    }
   ],
   "source": [
    "spark"
   ]
  },
  {
   "cell_type": "markdown",
   "id": "b3f3def8",
   "metadata": {},
   "source": [
    "## Read Data from HDFS using PySpark"
   ]
  },
  {
   "cell_type": "code",
   "execution_count": 28,
   "id": "c0ce039d",
   "metadata": {},
   "outputs": [
    {
     "name": "stderr",
     "output_type": "stream",
     "text": [
      "[Stage 43:>                                                         (0 + 4) / 4]\r"
     ]
    },
    {
     "name": "stdout",
     "output_type": "stream",
     "text": [
      "root\n",
      " |-- Line#: integer (nullable = true)\n",
      " |-- Date: string (nullable = true)\n",
      " |-- Time: string (nullable = true)\n",
      " |-- Water Content (m3/m3): double (nullable = true)\n",
      " |-- Solar Radiation (W/m2): double (nullable = true)\n",
      " |-- Rain (mm): double (nullable = true)\n",
      " |-- Temperature (Celcius): double (nullable = true)\n",
      " |-- RH (%): double (nullable = true)\n",
      " |-- Wind Speed (m/s): double (nullable = true)\n",
      " |-- Gust Speed (m/s): double (nullable = true)\n",
      " |-- Wind Direction (Degree): double (nullable = true)\n",
      " |-- Dew Point (Celcius): double (nullable = true)\n",
      "\n"
     ]
    },
    {
     "name": "stderr",
     "output_type": "stream",
     "text": [
      "                                                                                \r"
     ]
    }
   ],
   "source": [
    "from pyspark.sql import SparkSession\n",
    "\n",
    "# Initialize Spark session\n",
    "spark = SparkSession.builder \\\n",
    "    .appName(\"Read CSV from HDFS\") \\\n",
    "    .getOrCreate()\n",
    "\n",
    "# Path to the CSV file on HDFS\n",
    "file_path = \"hdfs:///user/student/combined_raw_data.csv\"\n",
    "\n",
    "# Read the CSV file into a DataFrame\n",
    "df = spark.read.csv(file_path, header=True, inferSchema=True)\n",
    "\n",
    "# Show the DataFrame Schema\n",
    "df.printSchema()"
   ]
  },
  {
   "cell_type": "markdown",
   "id": "67d475d9",
   "metadata": {},
   "source": [
    "## Check Null Values with PySpark DataFrame"
   ]
  },
  {
   "cell_type": "code",
   "execution_count": 29,
   "id": "2a72fa0e",
   "metadata": {
    "scrolled": true
   },
   "outputs": [
    {
     "name": "stderr",
     "output_type": "stream",
     "text": [
      "[Stage 44:>                                                         (0 + 4) / 4]\r"
     ]
    },
    {
     "name": "stdout",
     "output_type": "stream",
     "text": [
      "Line#: 0 null values\n",
      "Date: 0 null values\n",
      "Time: 0 null values\n",
      "Water Content (m3/m3): 0 null values\n",
      "Solar Radiation (W/m2): 0 null values\n",
      "Rain (mm): 0 null values\n",
      "Temperature (Celcius): 0 null values\n",
      "RH (%): 0 null values\n",
      "Wind Speed (m/s): 0 null values\n",
      "Gust Speed (m/s): 0 null values\n",
      "Wind Direction (Degree): 0 null values\n",
      "Dew Point (Celcius): 0 null values\n"
     ]
    },
    {
     "name": "stderr",
     "output_type": "stream",
     "text": [
      "                                                                                \r"
     ]
    }
   ],
   "source": [
    "from pyspark.sql.functions import col, count, when, isnan\n",
    "\n",
    "null_counts = df.select([count(when(col(c).isNull(), c)).alias(c) for c in df.columns]).collect()[0]\n",
    "\n",
    "# Print null counts for each column\n",
    "for column, null_count in zip(df.columns, null_counts):\n",
    "    print(f\"{column}: {null_count} null values\")"
   ]
  },
  {
   "cell_type": "markdown",
   "id": "f0854cc7",
   "metadata": {},
   "source": [
    "## Count Datasets rows"
   ]
  },
  {
   "cell_type": "code",
   "execution_count": 30,
   "id": "cfa0ccf5",
   "metadata": {},
   "outputs": [
    {
     "data": {
      "text/plain": [
       "160418"
      ]
     },
     "execution_count": 30,
     "metadata": {},
     "output_type": "execute_result"
    }
   ],
   "source": [
    "df.count()"
   ]
  },
  {
   "cell_type": "markdown",
   "id": "13946790",
   "metadata": {},
   "source": [
    "## Drop Duplicate Datas"
   ]
  },
  {
   "cell_type": "code",
   "execution_count": 31,
   "id": "f73e6ad9",
   "metadata": {},
   "outputs": [],
   "source": [
    "df = df.select(\"*\").distinct()"
   ]
  },
  {
   "cell_type": "markdown",
   "id": "7e53f24b",
   "metadata": {},
   "source": [
    "## Count Datasets rows after dropping Duplicated Datas"
   ]
  },
  {
   "cell_type": "code",
   "execution_count": 32,
   "id": "7f745546",
   "metadata": {},
   "outputs": [
    {
     "name": "stderr",
     "output_type": "stream",
     "text": [
      "                                                                                \r"
     ]
    },
    {
     "data": {
      "text/plain": [
       "160418"
      ]
     },
     "execution_count": 32,
     "metadata": {},
     "output_type": "execute_result"
    }
   ],
   "source": [
    "# There isn't any duplicate datas.\n",
    "df.count()"
   ]
  },
  {
   "cell_type": "markdown",
   "id": "76ebd628",
   "metadata": {},
   "source": [
    "## Convert Date Datatype from String to Date in (dd-MM-yyyy)"
   ]
  },
  {
   "cell_type": "code",
   "execution_count": 36,
   "id": "83a0c6a4",
   "metadata": {},
   "outputs": [],
   "source": [
    "#import library\n",
    "from pyspark.sql.functions import to_date, date_format\n",
    "\n",
    "df = df.withColumn(\"Date\", to_date(\"Date\", \"yy/MM/dd\"))\n",
    "df = df.withColumn(\"Date\", date_format(\"Date\", \"yyyy-MM-dd\"))"
   ]
  },
  {
   "cell_type": "code",
   "execution_count": 37,
   "id": "49510f1b",
   "metadata": {},
   "outputs": [
    {
     "name": "stderr",
     "output_type": "stream",
     "text": [
      "[Stage 53:>                                                         (0 + 4) / 4]\r"
     ]
    },
    {
     "name": "stdout",
     "output_type": "stream",
     "text": [
      "+-----+----------+--------+---------------------+----------------------+---------+---------------------+------+\n",
      "|Line#|      Date|    Time|Water Content (m3/m3)|Solar Radiation (W/m2)|Rain (mm)|Temperature (Celcius)|RH (%)|\n",
      "+-----+----------+--------+---------------------+----------------------+---------+---------------------+------+\n",
      "| 2419|2021-05-09|09:30:00|               0.2837|                 326.0|      0.0|                31.61|  75.7|\n",
      "| 2454|2021-05-09|12:25:00|               0.2837|                 411.0|      0.0|                33.47|  66.4|\n",
      "| 2513|2021-05-09|17:20:00|               0.2834|                  57.0|      0.0|                32.61|  69.8|\n",
      "| 2537|2021-05-09|19:20:00|               0.2834|                   1.0|      0.0|                29.41|  85.5|\n",
      "| 3002|2021-05-11|10:05:00|               0.2813|                 791.0|      0.0|                33.84|  66.0|\n",
      "+-----+----------+--------+---------------------+----------------------+---------+---------------------+------+\n",
      "only showing top 5 rows\n",
      "\n",
      "root\n",
      " |-- Line#: integer (nullable = true)\n",
      " |-- Date: string (nullable = true)\n",
      " |-- Time: string (nullable = true)\n",
      " |-- Water Content (m3/m3): double (nullable = true)\n",
      " |-- Solar Radiation (W/m2): double (nullable = true)\n",
      " |-- Rain (mm): double (nullable = true)\n",
      " |-- Temperature (Celcius): double (nullable = true)\n",
      " |-- RH (%): double (nullable = true)\n",
      "\n"
     ]
    },
    {
     "name": "stderr",
     "output_type": "stream",
     "text": [
      "                                                                                \r"
     ]
    }
   ],
   "source": [
    "selected_columns = [\n",
    "    \"Line#\", \"Date\", \"Time\", \"Water Content (m3/m3)\", \n",
    "    \"Solar Radiation (W/m2)\", \"Rain (mm)\", \n",
    "    \"Temperature (Celcius)\", \"RH (%)\"\n",
    "]\n",
    "df.select(*selected_columns).show(5)\n",
    "\n",
    "# Print the schema of the selected columns\n",
    "df.select(*selected_columns).printSchema()"
   ]
  }
 ],
 "metadata": {
  "kernelspec": {
   "display_name": "Python 3 (ipykernel)",
   "language": "python",
   "name": "python3"
  },
  "language_info": {
   "codemirror_mode": {
    "name": "ipython",
    "version": 3
   },
   "file_extension": ".py",
   "mimetype": "text/x-python",
   "name": "python",
   "nbconvert_exporter": "python",
   "pygments_lexer": "ipython3",
   "version": "3.8.12"
  }
 },
 "nbformat": 4,
 "nbformat_minor": 5
}
