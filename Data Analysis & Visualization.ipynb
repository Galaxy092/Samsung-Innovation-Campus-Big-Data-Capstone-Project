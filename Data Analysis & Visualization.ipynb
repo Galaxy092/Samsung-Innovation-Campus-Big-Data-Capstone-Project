{
 "cells": [
  {
   "cell_type": "markdown",
   "id": "560d4f8a",
   "metadata": {},
   "source": [
    "## Create SparkSession"
   ]
  },
  {
   "cell_type": "code",
   "execution_count": 7,
   "id": "cdf2d4d3",
   "metadata": {},
   "outputs": [
    {
     "name": "stdout",
     "output_type": "stream",
     "text": [
      "+---------+\n",
      "|namespace|\n",
      "+---------+\n",
      "|  default|\n",
      "|     mydb|\n",
      "+---------+\n",
      "\n"
     ]
    }
   ],
   "source": [
    "from pyspark.sql import SparkSession\n",
    "\n",
    "# Create a SparkSession\n",
    "spark = SparkSession.builder.appName(\"WeatherAnalysis\").getOrCreate()"
   ]
  },
  {
   "cell_type": "markdown",
   "id": "d592263b",
   "metadata": {},
   "source": [
    "## Show databases from HIVE"
   ]
  },
  {
   "cell_type": "code",
   "execution_count": 10,
   "id": "101105c8",
   "metadata": {},
   "outputs": [
    {
     "name": "stdout",
     "output_type": "stream",
     "text": [
      "+---------+\n",
      "|namespace|\n",
      "+---------+\n",
      "|  default|\n",
      "|     mydb|\n",
      "+---------+\n",
      "\n"
     ]
    }
   ],
   "source": [
    "spark.sql(\"show databases\").show()"
   ]
  },
  {
   "cell_type": "markdown",
   "id": "110171a9",
   "metadata": {},
   "source": [
    "## Use mydb database"
   ]
  },
  {
   "cell_type": "code",
   "execution_count": 11,
   "id": "c93b8f6b",
   "metadata": {},
   "outputs": [
    {
     "data": {
      "text/plain": [
       "DataFrame[]"
      ]
     },
     "execution_count": 11,
     "metadata": {},
     "output_type": "execute_result"
    }
   ],
   "source": [
    "spark.sql('use mydb')"
   ]
  },
  {
   "cell_type": "markdown",
   "id": "baf76f80",
   "metadata": {},
   "source": [
    "## Show mydb tables"
   ]
  },
  {
   "cell_type": "code",
   "execution_count": 12,
   "id": "53b175ea",
   "metadata": {},
   "outputs": [
    {
     "name": "stdout",
     "output_type": "stream",
     "text": [
      "+--------+--------------------+-----------+\n",
      "|database|           tableName|isTemporary|\n",
      "+--------+--------------------+-----------+\n",
      "|    mydb|             authors|      false|\n",
      "|    mydb|                cars|      false|\n",
      "|    mydb|weather_data_part...|      false|\n",
      "+--------+--------------------+-----------+\n",
      "\n"
     ]
    }
   ],
   "source": [
    "spark.sql('show tables').show()"
   ]
  },
  {
   "cell_type": "code",
   "execution_count": null,
   "id": "52ca021a",
   "metadata": {},
   "outputs": [],
   "source": [
    "spark.sql()"
   ]
  }
 ],
 "metadata": {
  "kernelspec": {
   "display_name": "Python 3 (ipykernel)",
   "language": "python",
   "name": "python3"
  },
  "language_info": {
   "codemirror_mode": {
    "name": "ipython",
    "version": 3
   },
   "file_extension": ".py",
   "mimetype": "text/x-python",
   "name": "python",
   "nbconvert_exporter": "python",
   "pygments_lexer": "ipython3",
   "version": "3.8.12"
  }
 },
 "nbformat": 4,
 "nbformat_minor": 5
}
