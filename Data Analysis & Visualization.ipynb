{
 "cells": [
  {
   "cell_type": "markdown",
   "id": "9235f9ad",
   "metadata": {},
   "source": [
    "## Create SparkSession"
   ]
  },
  {
   "cell_type": "code",
   "execution_count": 7,
   "id": "f459e121",
   "metadata": {},
   "outputs": [
    {
     "name": "stdout",
     "output_type": "stream",
     "text": [
      "+---------+\n",
      "|namespace|\n",
      "+---------+\n",
      "|  default|\n",
      "|     mydb|\n",
      "+---------+\n",
      "\n"
     ]
    }
   ],
   "source": [
    "from pyspark.sql import SparkSession\n",
    "\n",
    "# Create a SparkSession\n",
    "spark = SparkSession.builder.appName(\"WeatherAnalysis\").getOrCreate()"
   ]
  },
  {
   "cell_type": "markdown",
   "id": "d8b5b80b",
   "metadata": {},
   "source": [
    "## Show databases from HIVE"
   ]
  },
  {
   "cell_type": "code",
   "execution_count": 10,
   "id": "7ceea708",
   "metadata": {},
   "outputs": [
    {
     "name": "stdout",
     "output_type": "stream",
     "text": [
      "+---------+\n",
      "|namespace|\n",
      "+---------+\n",
      "|  default|\n",
      "|     mydb|\n",
      "+---------+\n",
      "\n"
     ]
    }
   ],
   "source": [
    "spark.sql(\"show databases\").show()"
   ]
  },
  {
   "cell_type": "markdown",
   "id": "bcf3a20c",
   "metadata": {},
   "source": [
    "## Use mydb database"
   ]
  },
  {
   "cell_type": "code",
   "execution_count": 11,
   "id": "3f2a0ec0",
   "metadata": {},
   "outputs": [
    {
     "data": {
      "text/plain": [
       "DataFrame[]"
      ]
     },
     "execution_count": 11,
     "metadata": {},
     "output_type": "execute_result"
    }
   ],
   "source": [
    "spark.sql('use mydb')"
   ]
  },
  {
   "cell_type": "markdown",
   "id": "8fc9f9d2",
   "metadata": {},
   "source": [
    "## Show mydb tables"
   ]
  },
  {
   "cell_type": "code",
   "execution_count": 12,
   "id": "5d322423",
   "metadata": {},
   "outputs": [
    {
     "name": "stdout",
     "output_type": "stream",
     "text": [
      "+--------+--------------------+-----------+\n",
      "|database|           tableName|isTemporary|\n",
      "+--------+--------------------+-----------+\n",
      "|    mydb|             authors|      false|\n",
      "|    mydb|                cars|      false|\n",
      "|    mydb|weather_data_part...|      false|\n",
      "+--------+--------------------+-----------+\n",
      "\n"
     ]
    }
   ],
   "source": [
    "spark.sql('show tables').show()"
   ]
  },
  {
   "cell_type": "code",
   "execution_count": 13,
   "id": "24b87257",
   "metadata": {},
   "outputs": [
    {
     "name": "stdout",
     "output_type": "stream",
     "text": [
      "+--------------------+\n",
      "|            col_name|\n",
      "+--------------------+\n",
      "|                Date|\n",
      "|                Time|\n",
      "| Water_Content_m3_m3|\n",
      "|Solar_Radiation_W_m2|\n",
      "|             Rain_mm|\n",
      "| Temperature_Celsius|\n",
      "|          RH_percent|\n",
      "|      Wind_Speed_m_s|\n",
      "|      Gust_Speed_m_s|\n",
      "|Wind_Direction_De...|\n",
      "|   Dew_Point_Celsius|\n",
      "|               month|\n",
      "+--------------------+\n",
      "\n"
     ]
    }
   ],
   "source": [
    "spark.sql('show columns in weather_data_partitioned_by_month').show()"
   ]
  },
  {
   "cell_type": "code",
   "execution_count": null,
   "id": "d4065720",
   "metadata": {},
   "outputs": [],
   "source": []
  }
 ],
 "metadata": {
  "kernelspec": {
   "display_name": "Python 3 (ipykernel)",
   "language": "python",
   "name": "python3"
  },
  "language_info": {
   "codemirror_mode": {
    "name": "ipython",
    "version": 3
   },
   "file_extension": ".py",
   "mimetype": "text/x-python",
   "name": "python",
   "nbconvert_exporter": "python",
   "pygments_lexer": "ipython3",
   "version": "3.8.12"
  }
 },
 "nbformat": 4,
 "nbformat_minor": 5
}
